{
 "cells": [
  {
   "cell_type": "code",
   "execution_count": 1,
   "id": "d0dc16e0",
   "metadata": {
    "_cell_guid": "b1076dfc-b9ad-4769-8c92-a6c4dae69d19",
    "_uuid": "8f2839f25d086af736a60e9eeb907d3b93b6e0e5",
    "execution": {
     "iopub.execute_input": "2023-04-07T05:55:28.345798Z",
     "iopub.status.busy": "2023-04-07T05:55:28.345377Z",
     "iopub.status.idle": "2023-04-07T05:55:28.372146Z",
     "shell.execute_reply": "2023-04-07T05:55:28.370561Z"
    },
    "papermill": {
     "duration": 0.039056,
     "end_time": "2023-04-07T05:55:28.375410",
     "exception": false,
     "start_time": "2023-04-07T05:55:28.336354",
     "status": "completed"
    },
    "tags": []
   },
   "outputs": [
    {
     "name": "stdout",
     "output_type": "stream",
     "text": [
      "/kaggle/input/heart-attack-analysis-prediction-dataset/o2Saturation.csv\n",
      "/kaggle/input/heart-attack-analysis-prediction-dataset/heart.csv\n"
     ]
    }
   ],
   "source": [
    "# This Python 3 environment comes with many helpful analytics libraries installed\n",
    "# It is defined by the kaggle/python Docker image: https://github.com/kaggle/docker-python\n",
    "# For example, here's several helpful packages to load\n",
    "\n",
    "import numpy as np # linear algebra\n",
    "import pandas as pd # data processing, CSV file I/O (e.g. pd.read_csv)\n",
    "\n",
    "# Input data files are available in the read-only \"../input/\" directory\n",
    "# For example, running this (by clicking run or pressing Shift+Enter) will list all files under the input directory\n",
    "\n",
    "import os\n",
    "for dirname, _, filenames in os.walk('/kaggle/input'):\n",
    "    for filename in filenames:\n",
    "        print(os.path.join(dirname, filename))\n",
    "\n",
    "# You can write up to 20GB to the current directory (/kaggle/working/) that gets preserved as output when you create a version using \"Save & Run All\" \n",
    "# You can also write temporary files to /kaggle/temp/, but they won't be saved outside of the current session"
   ]
  },
  {
   "cell_type": "code",
   "execution_count": 2,
   "id": "52eca80f",
   "metadata": {
    "execution": {
     "iopub.execute_input": "2023-04-07T05:55:28.390710Z",
     "iopub.status.busy": "2023-04-07T05:55:28.389588Z",
     "iopub.status.idle": "2023-04-07T05:55:28.436242Z",
     "shell.execute_reply": "2023-04-07T05:55:28.434755Z"
    },
    "papermill": {
     "duration": 0.05724,
     "end_time": "2023-04-07T05:55:28.439149",
     "exception": false,
     "start_time": "2023-04-07T05:55:28.381909",
     "status": "completed"
    },
    "tags": []
   },
   "outputs": [
    {
     "data": {
      "text/html": [
       "<div>\n",
       "<style scoped>\n",
       "    .dataframe tbody tr th:only-of-type {\n",
       "        vertical-align: middle;\n",
       "    }\n",
       "\n",
       "    .dataframe tbody tr th {\n",
       "        vertical-align: top;\n",
       "    }\n",
       "\n",
       "    .dataframe thead th {\n",
       "        text-align: right;\n",
       "    }\n",
       "</style>\n",
       "<table border=\"1\" class=\"dataframe\">\n",
       "  <thead>\n",
       "    <tr style=\"text-align: right;\">\n",
       "      <th></th>\n",
       "      <th>age</th>\n",
       "      <th>sex</th>\n",
       "      <th>cp</th>\n",
       "      <th>trtbps</th>\n",
       "      <th>chol</th>\n",
       "      <th>fbs</th>\n",
       "      <th>restecg</th>\n",
       "      <th>thalachh</th>\n",
       "      <th>exng</th>\n",
       "      <th>oldpeak</th>\n",
       "      <th>slp</th>\n",
       "      <th>caa</th>\n",
       "      <th>thall</th>\n",
       "      <th>output</th>\n",
       "    </tr>\n",
       "  </thead>\n",
       "  <tbody>\n",
       "    <tr>\n",
       "      <th>0</th>\n",
       "      <td>63</td>\n",
       "      <td>1</td>\n",
       "      <td>3</td>\n",
       "      <td>145</td>\n",
       "      <td>233</td>\n",
       "      <td>1</td>\n",
       "      <td>0</td>\n",
       "      <td>150</td>\n",
       "      <td>0</td>\n",
       "      <td>2.3</td>\n",
       "      <td>0</td>\n",
       "      <td>0</td>\n",
       "      <td>1</td>\n",
       "      <td>1</td>\n",
       "    </tr>\n",
       "    <tr>\n",
       "      <th>1</th>\n",
       "      <td>37</td>\n",
       "      <td>1</td>\n",
       "      <td>2</td>\n",
       "      <td>130</td>\n",
       "      <td>250</td>\n",
       "      <td>0</td>\n",
       "      <td>1</td>\n",
       "      <td>187</td>\n",
       "      <td>0</td>\n",
       "      <td>3.5</td>\n",
       "      <td>0</td>\n",
       "      <td>0</td>\n",
       "      <td>2</td>\n",
       "      <td>1</td>\n",
       "    </tr>\n",
       "    <tr>\n",
       "      <th>2</th>\n",
       "      <td>41</td>\n",
       "      <td>0</td>\n",
       "      <td>1</td>\n",
       "      <td>130</td>\n",
       "      <td>204</td>\n",
       "      <td>0</td>\n",
       "      <td>0</td>\n",
       "      <td>172</td>\n",
       "      <td>0</td>\n",
       "      <td>1.4</td>\n",
       "      <td>2</td>\n",
       "      <td>0</td>\n",
       "      <td>2</td>\n",
       "      <td>1</td>\n",
       "    </tr>\n",
       "    <tr>\n",
       "      <th>3</th>\n",
       "      <td>56</td>\n",
       "      <td>1</td>\n",
       "      <td>1</td>\n",
       "      <td>120</td>\n",
       "      <td>236</td>\n",
       "      <td>0</td>\n",
       "      <td>1</td>\n",
       "      <td>178</td>\n",
       "      <td>0</td>\n",
       "      <td>0.8</td>\n",
       "      <td>2</td>\n",
       "      <td>0</td>\n",
       "      <td>2</td>\n",
       "      <td>1</td>\n",
       "    </tr>\n",
       "    <tr>\n",
       "      <th>4</th>\n",
       "      <td>57</td>\n",
       "      <td>0</td>\n",
       "      <td>0</td>\n",
       "      <td>120</td>\n",
       "      <td>354</td>\n",
       "      <td>0</td>\n",
       "      <td>1</td>\n",
       "      <td>163</td>\n",
       "      <td>1</td>\n",
       "      <td>0.6</td>\n",
       "      <td>2</td>\n",
       "      <td>0</td>\n",
       "      <td>2</td>\n",
       "      <td>1</td>\n",
       "    </tr>\n",
       "  </tbody>\n",
       "</table>\n",
       "</div>"
      ],
      "text/plain": [
       "   age  sex  cp  trtbps  chol  fbs  restecg  thalachh  exng  oldpeak  slp  \\\n",
       "0   63    1   3     145   233    1        0       150     0      2.3    0   \n",
       "1   37    1   2     130   250    0        1       187     0      3.5    0   \n",
       "2   41    0   1     130   204    0        0       172     0      1.4    2   \n",
       "3   56    1   1     120   236    0        1       178     0      0.8    2   \n",
       "4   57    0   0     120   354    0        1       163     1      0.6    2   \n",
       "\n",
       "   caa  thall  output  \n",
       "0    0      1       1  \n",
       "1    0      2       1  \n",
       "2    0      2       1  \n",
       "3    0      2       1  \n",
       "4    0      2       1  "
      ]
     },
     "execution_count": 2,
     "metadata": {},
     "output_type": "execute_result"
    }
   ],
   "source": [
    "heart = pd.read_csv(\"/kaggle/input/heart-attack-analysis-prediction-dataset/heart.csv\")\n",
    "heart.head()"
   ]
  },
  {
   "cell_type": "code",
   "execution_count": 3,
   "id": "f2068751",
   "metadata": {
    "execution": {
     "iopub.execute_input": "2023-04-07T05:55:28.453602Z",
     "iopub.status.busy": "2023-04-07T05:55:28.452707Z",
     "iopub.status.idle": "2023-04-07T05:55:28.481576Z",
     "shell.execute_reply": "2023-04-07T05:55:28.480033Z"
    },
    "papermill": {
     "duration": 0.039425,
     "end_time": "2023-04-07T05:55:28.484660",
     "exception": false,
     "start_time": "2023-04-07T05:55:28.445235",
     "status": "completed"
    },
    "tags": []
   },
   "outputs": [
    {
     "name": "stdout",
     "output_type": "stream",
     "text": [
      "<class 'pandas.core.frame.DataFrame'>\n",
      "RangeIndex: 303 entries, 0 to 302\n",
      "Data columns (total 14 columns):\n",
      " #   Column    Non-Null Count  Dtype  \n",
      "---  ------    --------------  -----  \n",
      " 0   age       303 non-null    int64  \n",
      " 1   sex       303 non-null    int64  \n",
      " 2   cp        303 non-null    int64  \n",
      " 3   trtbps    303 non-null    int64  \n",
      " 4   chol      303 non-null    int64  \n",
      " 5   fbs       303 non-null    int64  \n",
      " 6   restecg   303 non-null    int64  \n",
      " 7   thalachh  303 non-null    int64  \n",
      " 8   exng      303 non-null    int64  \n",
      " 9   oldpeak   303 non-null    float64\n",
      " 10  slp       303 non-null    int64  \n",
      " 11  caa       303 non-null    int64  \n",
      " 12  thall     303 non-null    int64  \n",
      " 13  output    303 non-null    int64  \n",
      "dtypes: float64(1), int64(13)\n",
      "memory usage: 33.3 KB\n"
     ]
    }
   ],
   "source": [
    "heart.info()"
   ]
  },
  {
   "cell_type": "code",
   "execution_count": 4,
   "id": "2b46c2be",
   "metadata": {
    "execution": {
     "iopub.execute_input": "2023-04-07T05:55:28.500048Z",
     "iopub.status.busy": "2023-04-07T05:55:28.499050Z",
     "iopub.status.idle": "2023-04-07T05:55:28.559238Z",
     "shell.execute_reply": "2023-04-07T05:55:28.557885Z"
    },
    "papermill": {
     "duration": 0.071135,
     "end_time": "2023-04-07T05:55:28.562177",
     "exception": false,
     "start_time": "2023-04-07T05:55:28.491042",
     "status": "completed"
    },
    "tags": []
   },
   "outputs": [
    {
     "data": {
      "text/html": [
       "<div>\n",
       "<style scoped>\n",
       "    .dataframe tbody tr th:only-of-type {\n",
       "        vertical-align: middle;\n",
       "    }\n",
       "\n",
       "    .dataframe tbody tr th {\n",
       "        vertical-align: top;\n",
       "    }\n",
       "\n",
       "    .dataframe thead th {\n",
       "        text-align: right;\n",
       "    }\n",
       "</style>\n",
       "<table border=\"1\" class=\"dataframe\">\n",
       "  <thead>\n",
       "    <tr style=\"text-align: right;\">\n",
       "      <th></th>\n",
       "      <th>age</th>\n",
       "      <th>sex</th>\n",
       "      <th>cp</th>\n",
       "      <th>trtbps</th>\n",
       "      <th>chol</th>\n",
       "      <th>fbs</th>\n",
       "      <th>restecg</th>\n",
       "      <th>thalachh</th>\n",
       "      <th>exng</th>\n",
       "      <th>oldpeak</th>\n",
       "      <th>slp</th>\n",
       "      <th>caa</th>\n",
       "      <th>thall</th>\n",
       "      <th>output</th>\n",
       "    </tr>\n",
       "  </thead>\n",
       "  <tbody>\n",
       "    <tr>\n",
       "      <th>count</th>\n",
       "      <td>303.000000</td>\n",
       "      <td>303.000000</td>\n",
       "      <td>303.000000</td>\n",
       "      <td>303.000000</td>\n",
       "      <td>303.000000</td>\n",
       "      <td>303.000000</td>\n",
       "      <td>303.000000</td>\n",
       "      <td>303.000000</td>\n",
       "      <td>303.000000</td>\n",
       "      <td>303.000000</td>\n",
       "      <td>303.000000</td>\n",
       "      <td>303.000000</td>\n",
       "      <td>303.000000</td>\n",
       "      <td>303.000000</td>\n",
       "    </tr>\n",
       "    <tr>\n",
       "      <th>mean</th>\n",
       "      <td>54.366337</td>\n",
       "      <td>0.683168</td>\n",
       "      <td>0.966997</td>\n",
       "      <td>131.623762</td>\n",
       "      <td>246.264026</td>\n",
       "      <td>0.148515</td>\n",
       "      <td>0.528053</td>\n",
       "      <td>149.646865</td>\n",
       "      <td>0.326733</td>\n",
       "      <td>1.039604</td>\n",
       "      <td>1.399340</td>\n",
       "      <td>0.729373</td>\n",
       "      <td>2.313531</td>\n",
       "      <td>0.544554</td>\n",
       "    </tr>\n",
       "    <tr>\n",
       "      <th>std</th>\n",
       "      <td>9.082101</td>\n",
       "      <td>0.466011</td>\n",
       "      <td>1.032052</td>\n",
       "      <td>17.538143</td>\n",
       "      <td>51.830751</td>\n",
       "      <td>0.356198</td>\n",
       "      <td>0.525860</td>\n",
       "      <td>22.905161</td>\n",
       "      <td>0.469794</td>\n",
       "      <td>1.161075</td>\n",
       "      <td>0.616226</td>\n",
       "      <td>1.022606</td>\n",
       "      <td>0.612277</td>\n",
       "      <td>0.498835</td>\n",
       "    </tr>\n",
       "    <tr>\n",
       "      <th>min</th>\n",
       "      <td>29.000000</td>\n",
       "      <td>0.000000</td>\n",
       "      <td>0.000000</td>\n",
       "      <td>94.000000</td>\n",
       "      <td>126.000000</td>\n",
       "      <td>0.000000</td>\n",
       "      <td>0.000000</td>\n",
       "      <td>71.000000</td>\n",
       "      <td>0.000000</td>\n",
       "      <td>0.000000</td>\n",
       "      <td>0.000000</td>\n",
       "      <td>0.000000</td>\n",
       "      <td>0.000000</td>\n",
       "      <td>0.000000</td>\n",
       "    </tr>\n",
       "    <tr>\n",
       "      <th>25%</th>\n",
       "      <td>47.500000</td>\n",
       "      <td>0.000000</td>\n",
       "      <td>0.000000</td>\n",
       "      <td>120.000000</td>\n",
       "      <td>211.000000</td>\n",
       "      <td>0.000000</td>\n",
       "      <td>0.000000</td>\n",
       "      <td>133.500000</td>\n",
       "      <td>0.000000</td>\n",
       "      <td>0.000000</td>\n",
       "      <td>1.000000</td>\n",
       "      <td>0.000000</td>\n",
       "      <td>2.000000</td>\n",
       "      <td>0.000000</td>\n",
       "    </tr>\n",
       "    <tr>\n",
       "      <th>50%</th>\n",
       "      <td>55.000000</td>\n",
       "      <td>1.000000</td>\n",
       "      <td>1.000000</td>\n",
       "      <td>130.000000</td>\n",
       "      <td>240.000000</td>\n",
       "      <td>0.000000</td>\n",
       "      <td>1.000000</td>\n",
       "      <td>153.000000</td>\n",
       "      <td>0.000000</td>\n",
       "      <td>0.800000</td>\n",
       "      <td>1.000000</td>\n",
       "      <td>0.000000</td>\n",
       "      <td>2.000000</td>\n",
       "      <td>1.000000</td>\n",
       "    </tr>\n",
       "    <tr>\n",
       "      <th>75%</th>\n",
       "      <td>61.000000</td>\n",
       "      <td>1.000000</td>\n",
       "      <td>2.000000</td>\n",
       "      <td>140.000000</td>\n",
       "      <td>274.500000</td>\n",
       "      <td>0.000000</td>\n",
       "      <td>1.000000</td>\n",
       "      <td>166.000000</td>\n",
       "      <td>1.000000</td>\n",
       "      <td>1.600000</td>\n",
       "      <td>2.000000</td>\n",
       "      <td>1.000000</td>\n",
       "      <td>3.000000</td>\n",
       "      <td>1.000000</td>\n",
       "    </tr>\n",
       "    <tr>\n",
       "      <th>max</th>\n",
       "      <td>77.000000</td>\n",
       "      <td>1.000000</td>\n",
       "      <td>3.000000</td>\n",
       "      <td>200.000000</td>\n",
       "      <td>564.000000</td>\n",
       "      <td>1.000000</td>\n",
       "      <td>2.000000</td>\n",
       "      <td>202.000000</td>\n",
       "      <td>1.000000</td>\n",
       "      <td>6.200000</td>\n",
       "      <td>2.000000</td>\n",
       "      <td>4.000000</td>\n",
       "      <td>3.000000</td>\n",
       "      <td>1.000000</td>\n",
       "    </tr>\n",
       "  </tbody>\n",
       "</table>\n",
       "</div>"
      ],
      "text/plain": [
       "              age         sex          cp      trtbps        chol         fbs  \\\n",
       "count  303.000000  303.000000  303.000000  303.000000  303.000000  303.000000   \n",
       "mean    54.366337    0.683168    0.966997  131.623762  246.264026    0.148515   \n",
       "std      9.082101    0.466011    1.032052   17.538143   51.830751    0.356198   \n",
       "min     29.000000    0.000000    0.000000   94.000000  126.000000    0.000000   \n",
       "25%     47.500000    0.000000    0.000000  120.000000  211.000000    0.000000   \n",
       "50%     55.000000    1.000000    1.000000  130.000000  240.000000    0.000000   \n",
       "75%     61.000000    1.000000    2.000000  140.000000  274.500000    0.000000   \n",
       "max     77.000000    1.000000    3.000000  200.000000  564.000000    1.000000   \n",
       "\n",
       "          restecg    thalachh        exng     oldpeak         slp         caa  \\\n",
       "count  303.000000  303.000000  303.000000  303.000000  303.000000  303.000000   \n",
       "mean     0.528053  149.646865    0.326733    1.039604    1.399340    0.729373   \n",
       "std      0.525860   22.905161    0.469794    1.161075    0.616226    1.022606   \n",
       "min      0.000000   71.000000    0.000000    0.000000    0.000000    0.000000   \n",
       "25%      0.000000  133.500000    0.000000    0.000000    1.000000    0.000000   \n",
       "50%      1.000000  153.000000    0.000000    0.800000    1.000000    0.000000   \n",
       "75%      1.000000  166.000000    1.000000    1.600000    2.000000    1.000000   \n",
       "max      2.000000  202.000000    1.000000    6.200000    2.000000    4.000000   \n",
       "\n",
       "            thall      output  \n",
       "count  303.000000  303.000000  \n",
       "mean     2.313531    0.544554  \n",
       "std      0.612277    0.498835  \n",
       "min      0.000000    0.000000  \n",
       "25%      2.000000    0.000000  \n",
       "50%      2.000000    1.000000  \n",
       "75%      3.000000    1.000000  \n",
       "max      3.000000    1.000000  "
      ]
     },
     "execution_count": 4,
     "metadata": {},
     "output_type": "execute_result"
    }
   ],
   "source": [
    "heart.describe()"
   ]
  },
  {
   "cell_type": "markdown",
   "id": "541d7636",
   "metadata": {
    "papermill": {
     "duration": 0.006321,
     "end_time": "2023-04-07T05:55:28.575109",
     "exception": false,
     "start_time": "2023-04-07T05:55:28.568788",
     "status": "completed"
    },
    "tags": []
   },
   "source": [
    "# Null Value Analysis"
   ]
  },
  {
   "cell_type": "code",
   "execution_count": 5,
   "id": "f3485a62",
   "metadata": {
    "execution": {
     "iopub.execute_input": "2023-04-07T05:55:28.590581Z",
     "iopub.status.busy": "2023-04-07T05:55:28.590088Z",
     "iopub.status.idle": "2023-04-07T05:55:28.607012Z",
     "shell.execute_reply": "2023-04-07T05:55:28.605738Z"
    },
    "papermill": {
     "duration": 0.028015,
     "end_time": "2023-04-07T05:55:28.609687",
     "exception": false,
     "start_time": "2023-04-07T05:55:28.581672",
     "status": "completed"
    },
    "tags": []
   },
   "outputs": [
    {
     "data": {
      "text/html": [
       "<div>\n",
       "<style scoped>\n",
       "    .dataframe tbody tr th:only-of-type {\n",
       "        vertical-align: middle;\n",
       "    }\n",
       "\n",
       "    .dataframe tbody tr th {\n",
       "        vertical-align: top;\n",
       "    }\n",
       "\n",
       "    .dataframe thead th {\n",
       "        text-align: right;\n",
       "    }\n",
       "</style>\n",
       "<table border=\"1\" class=\"dataframe\">\n",
       "  <thead>\n",
       "    <tr style=\"text-align: right;\">\n",
       "      <th></th>\n",
       "      <th>Count</th>\n",
       "      <th>Percentage</th>\n",
       "    </tr>\n",
       "  </thead>\n",
       "  <tbody>\n",
       "    <tr>\n",
       "      <th>age</th>\n",
       "      <td>0</td>\n",
       "      <td>0.0</td>\n",
       "    </tr>\n",
       "    <tr>\n",
       "      <th>sex</th>\n",
       "      <td>0</td>\n",
       "      <td>0.0</td>\n",
       "    </tr>\n",
       "    <tr>\n",
       "      <th>cp</th>\n",
       "      <td>0</td>\n",
       "      <td>0.0</td>\n",
       "    </tr>\n",
       "    <tr>\n",
       "      <th>trtbps</th>\n",
       "      <td>0</td>\n",
       "      <td>0.0</td>\n",
       "    </tr>\n",
       "    <tr>\n",
       "      <th>chol</th>\n",
       "      <td>0</td>\n",
       "      <td>0.0</td>\n",
       "    </tr>\n",
       "    <tr>\n",
       "      <th>fbs</th>\n",
       "      <td>0</td>\n",
       "      <td>0.0</td>\n",
       "    </tr>\n",
       "    <tr>\n",
       "      <th>restecg</th>\n",
       "      <td>0</td>\n",
       "      <td>0.0</td>\n",
       "    </tr>\n",
       "    <tr>\n",
       "      <th>thalachh</th>\n",
       "      <td>0</td>\n",
       "      <td>0.0</td>\n",
       "    </tr>\n",
       "    <tr>\n",
       "      <th>exng</th>\n",
       "      <td>0</td>\n",
       "      <td>0.0</td>\n",
       "    </tr>\n",
       "    <tr>\n",
       "      <th>oldpeak</th>\n",
       "      <td>0</td>\n",
       "      <td>0.0</td>\n",
       "    </tr>\n",
       "    <tr>\n",
       "      <th>slp</th>\n",
       "      <td>0</td>\n",
       "      <td>0.0</td>\n",
       "    </tr>\n",
       "    <tr>\n",
       "      <th>caa</th>\n",
       "      <td>0</td>\n",
       "      <td>0.0</td>\n",
       "    </tr>\n",
       "    <tr>\n",
       "      <th>thall</th>\n",
       "      <td>0</td>\n",
       "      <td>0.0</td>\n",
       "    </tr>\n",
       "    <tr>\n",
       "      <th>output</th>\n",
       "      <td>0</td>\n",
       "      <td>0.0</td>\n",
       "    </tr>\n",
       "  </tbody>\n",
       "</table>\n",
       "</div>"
      ],
      "text/plain": [
       "          Count  Percentage\n",
       "age           0         0.0\n",
       "sex           0         0.0\n",
       "cp            0         0.0\n",
       "trtbps        0         0.0\n",
       "chol          0         0.0\n",
       "fbs           0         0.0\n",
       "restecg       0         0.0\n",
       "thalachh      0         0.0\n",
       "exng          0         0.0\n",
       "oldpeak       0         0.0\n",
       "slp           0         0.0\n",
       "caa           0         0.0\n",
       "thall         0         0.0\n",
       "output        0         0.0"
      ]
     },
     "execution_count": 5,
     "metadata": {},
     "output_type": "execute_result"
    }
   ],
   "source": [
    "pd.DataFrame({\"Count\" : heart.isna().sum(), \"Percentage\" : heart.isna().sum() / len(heart)})"
   ]
  },
  {
   "cell_type": "code",
   "execution_count": 6,
   "id": "75670967",
   "metadata": {
    "execution": {
     "iopub.execute_input": "2023-04-07T05:55:28.626706Z",
     "iopub.status.busy": "2023-04-07T05:55:28.626237Z",
     "iopub.status.idle": "2023-04-07T05:55:28.631598Z",
     "shell.execute_reply": "2023-04-07T05:55:28.630295Z"
    },
    "papermill": {
     "duration": 0.017977,
     "end_time": "2023-04-07T05:55:28.634627",
     "exception": false,
     "start_time": "2023-04-07T05:55:28.616650",
     "status": "completed"
    },
    "tags": []
   },
   "outputs": [],
   "source": [
    "# No Null Values Present in this Dataset"
   ]
  },
  {
   "cell_type": "markdown",
   "id": "1021018d",
   "metadata": {
    "papermill": {
     "duration": 0.006625,
     "end_time": "2023-04-07T05:55:28.648231",
     "exception": false,
     "start_time": "2023-04-07T05:55:28.641606",
     "status": "completed"
    },
    "tags": []
   },
   "source": [
    "# EDA"
   ]
  },
  {
   "cell_type": "code",
   "execution_count": 7,
   "id": "33663e0a",
   "metadata": {
    "execution": {
     "iopub.execute_input": "2023-04-07T05:55:28.664255Z",
     "iopub.status.busy": "2023-04-07T05:55:28.663316Z",
     "iopub.status.idle": "2023-04-07T05:55:28.670186Z",
     "shell.execute_reply": "2023-04-07T05:55:28.668798Z"
    },
    "papermill": {
     "duration": 0.017604,
     "end_time": "2023-04-07T05:55:28.672650",
     "exception": false,
     "start_time": "2023-04-07T05:55:28.655046",
     "status": "completed"
    },
    "tags": []
   },
   "outputs": [],
   "source": [
    "X = heart.drop(\"output\", axis = 1)\n",
    "y = heart.output"
   ]
  },
  {
   "cell_type": "code",
   "execution_count": 8,
   "id": "eeb4f630",
   "metadata": {
    "execution": {
     "iopub.execute_input": "2023-04-07T05:55:28.689403Z",
     "iopub.status.busy": "2023-04-07T05:55:28.688289Z",
     "iopub.status.idle": "2023-04-07T05:55:32.286315Z",
     "shell.execute_reply": "2023-04-07T05:55:32.284886Z"
    },
    "papermill": {
     "duration": 3.609639,
     "end_time": "2023-04-07T05:55:32.289134",
     "exception": false,
     "start_time": "2023-04-07T05:55:28.679495",
     "status": "completed"
    },
    "tags": []
   },
   "outputs": [
    {
     "data": {
      "text/plain": [
       "<seaborn.axisgrid.PairGrid at 0x70ce2e6cac50>"
      ]
     },
     "execution_count": 8,
     "metadata": {},
     "output_type": "execute_result"
    },
    {
     "data": {
      "image/png": "[encoded data removed]",
      "text/plain": [
       "<Figure size 3250x250 with 13 Axes>"
      ]
     },
     "metadata": {},
     "output_type": "display_data"
    }
   ],
   "source": [
    "import matplotlib.pyplot as plt\n",
    "import seaborn as sns\n",
    "\n",
    "sns.pairplot(data=heart, x_vars=X.columns, y_vars=\"output\")"
   ]
  },
  {
   "cell_type": "code",
   "execution_count": 9,
   "id": "5424cd2e",
   "metadata": {
    "execution": {
     "iopub.execute_input": "2023-04-07T05:55:32.307647Z",
     "iopub.status.busy": "2023-04-07T05:55:32.306976Z",
     "iopub.status.idle": "2023-04-07T05:55:32.712022Z",
     "shell.execute_reply": "2023-04-07T05:55:32.710487Z"
    },
    "papermill": {
     "duration": 0.417896,
     "end_time": "2023-04-07T05:55:32.714765",
     "exception": false,
     "start_time": "2023-04-07T05:55:32.296869",
     "status": "completed"
    },
    "tags": []
   },
   "outputs": [
    {
     "data": {
      "text/plain": [
       "<AxesSubplot:>"
      ]
     },
     "execution_count": 9,
     "metadata": {},
     "output_type": "execute_result"
    },
    {
     "data": {
      "image/png": "[encoded data removed]",
      "text/plain": [
       "<Figure size 640x480 with 1 Axes>"
      ]
     },
     "metadata": {},
     "output_type": "display_data"
    }
   ],
   "source": [
    "sns.boxplot(data=heart)"
   ]
  },
  {
   "cell_type": "code",
   "execution_count": 10,
   "id": "1c84c34d",
   "metadata": {
    "execution": {
     "iopub.execute_input": "2023-04-07T05:55:32.733447Z",
     "iopub.status.busy": "2023-04-07T05:55:32.732964Z",
     "iopub.status.idle": "2023-04-07T05:55:32.737966Z",
     "shell.execute_reply": "2023-04-07T05:55:32.736720Z"
    },
    "papermill": {
     "duration": 0.017216,
     "end_time": "2023-04-07T05:55:32.740458",
     "exception": false,
     "start_time": "2023-04-07T05:55:32.723242",
     "status": "completed"
    },
    "tags": []
   },
   "outputs": [],
   "source": [
    "# In the above chart we can see that there are outoliers present in few of the fields."
   ]
  },
  {
   "cell_type": "code",
   "execution_count": 11,
   "id": "92c39e95",
   "metadata": {
    "execution": {
     "iopub.execute_input": "2023-04-07T05:55:32.758339Z",
     "iopub.status.busy": "2023-04-07T05:55:32.757899Z",
     "iopub.status.idle": "2023-04-07T05:55:32.764562Z",
     "shell.execute_reply": "2023-04-07T05:55:32.763262Z"
    },
    "papermill": {
     "duration": 0.018572,
     "end_time": "2023-04-07T05:55:32.766923",
     "exception": false,
     "start_time": "2023-04-07T05:55:32.748351",
     "status": "completed"
    },
    "tags": []
   },
   "outputs": [],
   "source": [
    "## Outlier Analysis\n",
    "\n",
    "def outlier_treatment(dataframe):\n",
    "    Q1 = dataframe.quantile(0.25)\n",
    "    Q3 = dataframe.quantile(0.75)\n",
    "    IQR = Q3-Q1\n",
    "    df_rem_out = dataframe[~((dataframe<(Q1-1.5*IQR))| (dataframe>(Q3+1.5*IQR)))]\n",
    "    return df_rem_out"
   ]
  },
  {
   "cell_type": "code",
   "execution_count": 12,
   "id": "f1390296",
   "metadata": {
    "execution": {
     "iopub.execute_input": "2023-04-07T05:55:32.784987Z",
     "iopub.status.busy": "2023-04-07T05:55:32.784500Z",
     "iopub.status.idle": "2023-04-07T05:55:32.799902Z",
     "shell.execute_reply": "2023-04-07T05:55:32.798695Z"
    },
    "papermill": {
     "duration": 0.027667,
     "end_time": "2023-04-07T05:55:32.802656",
     "exception": false,
     "start_time": "2023-04-07T05:55:32.774989",
     "status": "completed"
    },
    "tags": []
   },
   "outputs": [],
   "source": [
    "heart.iloc[:, 3 : 5] = outlier_treatment(heart.iloc[:, 3 : 5])\n",
    "heart.dropna(inplace=True)"
   ]
  },
  {
   "cell_type": "code",
   "execution_count": 13,
   "id": "1fb80d63",
   "metadata": {
    "execution": {
     "iopub.execute_input": "2023-04-07T05:55:32.821738Z",
     "iopub.status.busy": "2023-04-07T05:55:32.821045Z",
     "iopub.status.idle": "2023-04-07T05:55:33.396420Z",
     "shell.execute_reply": "2023-04-07T05:55:33.394930Z"
    },
    "papermill": {
     "duration": 0.588544,
     "end_time": "2023-04-07T05:55:33.399252",
     "exception": false,
     "start_time": "2023-04-07T05:55:32.810708",
     "status": "completed"
    },
    "tags": []
   },
   "outputs": [
    {
     "data": {
      "text/plain": [
       "<AxesSubplot:>"
      ]
     },
     "execution_count": 13,
     "metadata": {},
     "output_type": "execute_result"
    },
    {
     "data": {
      "image/png": "[encoded data removed]",
      "text/plain": [
       "<Figure size 640x480 with 1 Axes>"
      ]
     },
     "metadata": {},
     "output_type": "display_data"
    }
   ],
   "source": [
    "sns.boxplot(data=heart)"
   ]
  },
  {
   "cell_type": "code",
   "execution_count": 14,
   "id": "e64b65a3",
   "metadata": {
    "execution": {
     "iopub.execute_input": "2023-04-07T05:55:33.420640Z",
     "iopub.status.busy": "2023-04-07T05:55:33.419190Z",
     "iopub.status.idle": "2023-04-07T05:55:33.849710Z",
     "shell.execute_reply": "2023-04-07T05:55:33.848437Z"
    },
    "papermill": {
     "duration": 0.444254,
     "end_time": "2023-04-07T05:55:33.852615",
     "exception": false,
     "start_time": "2023-04-07T05:55:33.408361",
     "status": "completed"
    },
    "tags": []
   },
   "outputs": [
    {
     "data": {
      "text/plain": [
       "<AxesSubplot:ylabel='Density'>"
      ]
     },
     "execution_count": 14,
     "metadata": {},
     "output_type": "execute_result"
    },
    {
     "data": {
      "image/png": "[encoded data removed]",
      "text/plain": [
       "<Figure size 640x480 with 1 Axes>"
      ]
     },
     "metadata": {},
     "output_type": "display_data"
    }
   ],
   "source": [
    "## Scaling\n",
    "\n",
    "X = heart.drop(\"output\", axis = 1)\n",
    "y = heart.output\n",
    "\n",
    "X.plot.kde()"
   ]
  },
  {
   "cell_type": "code",
   "execution_count": 15,
   "id": "462a7df4",
   "metadata": {
    "execution": {
     "iopub.execute_input": "2023-04-07T05:55:33.872916Z",
     "iopub.status.busy": "2023-04-07T05:55:33.872065Z",
     "iopub.status.idle": "2023-04-07T05:55:34.485797Z",
     "shell.execute_reply": "2023-04-07T05:55:34.484382Z"
    },
    "papermill": {
     "duration": 0.626677,
     "end_time": "2023-04-07T05:55:34.488368",
     "exception": false,
     "start_time": "2023-04-07T05:55:33.861691",
     "status": "completed"
    },
    "tags": []
   },
   "outputs": [
    {
     "data": {
      "text/plain": [
       "<AxesSubplot:ylabel='Density'>"
      ]
     },
     "execution_count": 15,
     "metadata": {},
     "output_type": "execute_result"
    },
    {
     "data": {
      "image/png": "[encoded data removed]",
      "text/plain": [
       "<Figure size 640x480 with 1 Axes>"
      ]
     },
     "metadata": {},
     "output_type": "display_data"
    }
   ],
   "source": [
    "from sklearn.preprocessing import StandardScaler\n",
    "\n",
    "X = pd.DataFrame(StandardScaler().fit_transform(X))\n",
    "X.plot.kde()"
   ]
  },
  {
   "cell_type": "markdown",
   "id": "28071e70",
   "metadata": {
    "papermill": {
     "duration": 0.010126,
     "end_time": "2023-04-07T05:55:34.509132",
     "exception": false,
     "start_time": "2023-04-07T05:55:34.499006",
     "status": "completed"
    },
    "tags": []
   },
   "source": [
    "# RandomForestClassifier - Model Training"
   ]
  },
  {
   "cell_type": "code",
   "execution_count": 16,
   "id": "45f35af5",
   "metadata": {
    "execution": {
     "iopub.execute_input": "2023-04-07T05:55:34.532011Z",
     "iopub.status.busy": "2023-04-07T05:55:34.531532Z",
     "iopub.status.idle": "2023-04-07T05:55:34.617199Z",
     "shell.execute_reply": "2023-04-07T05:55:34.615975Z"
    },
    "papermill": {
     "duration": 0.100448,
     "end_time": "2023-04-07T05:55:34.619952",
     "exception": false,
     "start_time": "2023-04-07T05:55:34.519504",
     "status": "completed"
    },
    "tags": []
   },
   "outputs": [],
   "source": [
    "from sklearn.model_selection import train_test_split\n",
    "\n",
    "X_train, X_test, y_train, y_test = train_test_split(X, y, test_size=0.20, random_state=0)"
   ]
  },
  {
   "cell_type": "code",
   "execution_count": 17,
   "id": "34f8c588",
   "metadata": {
    "execution": {
     "iopub.execute_input": "2023-04-07T05:55:34.643652Z",
     "iopub.status.busy": "2023-04-07T05:55:34.642631Z",
     "iopub.status.idle": "2023-04-07T05:55:35.203674Z",
     "shell.execute_reply": "2023-04-07T05:55:35.202158Z"
    },
    "papermill": {
     "duration": 0.576034,
     "end_time": "2023-04-07T05:55:35.206425",
     "exception": false,
     "start_time": "2023-04-07T05:55:34.630391",
     "status": "completed"
    },
    "tags": []
   },
   "outputs": [
    {
     "data": {
      "text/plain": [
       "RandomForestClassifier()"
      ]
     },
     "execution_count": 17,
     "metadata": {},
     "output_type": "execute_result"
    }
   ],
   "source": [
    "from sklearn.ensemble import RandomForestClassifier\n",
    "\n",
    "rf_classifier = RandomForestClassifier(n_estimators=100)\n",
    "rf_classifier.fit(X_train, y_train)"
   ]
  },
  {
   "cell_type": "code",
   "execution_count": 18,
   "id": "2b80ab4b",
   "metadata": {
    "execution": {
     "iopub.execute_input": "2023-04-07T05:55:35.229813Z",
     "iopub.status.busy": "2023-04-07T05:55:35.229400Z",
     "iopub.status.idle": "2023-04-07T05:55:35.252426Z",
     "shell.execute_reply": "2023-04-07T05:55:35.250955Z"
    },
    "papermill": {
     "duration": 0.038587,
     "end_time": "2023-04-07T05:55:35.255612",
     "exception": false,
     "start_time": "2023-04-07T05:55:35.217025",
     "status": "completed"
    },
    "tags": []
   },
   "outputs": [],
   "source": [
    "y_pred = rf_classifier.predict(X_test)"
   ]
  },
  {
   "cell_type": "code",
   "execution_count": 19,
   "id": "d36e63ad",
   "metadata": {
    "execution": {
     "iopub.execute_input": "2023-04-07T05:55:35.279833Z",
     "iopub.status.busy": "2023-04-07T05:55:35.278990Z",
     "iopub.status.idle": "2023-04-07T05:55:35.289344Z",
     "shell.execute_reply": "2023-04-07T05:55:35.287895Z"
    },
    "papermill": {
     "duration": 0.025501,
     "end_time": "2023-04-07T05:55:35.292187",
     "exception": false,
     "start_time": "2023-04-07T05:55:35.266686",
     "status": "completed"
    },
    "tags": []
   },
   "outputs": [
    {
     "name": "stdout",
     "output_type": "stream",
     "text": [
      "Accuracy Score:  84.48275862068965\n",
      "Recall Score:  0.9\n",
      "Precision Score:  0.8181818181818182\n"
     ]
    }
   ],
   "source": [
    "from sklearn.metrics import accuracy_score, recall_score, precision_score\n",
    "\n",
    "print(\"Accuracy Score: \", accuracy_score(y_test, y_pred) * 100)\n",
    "print(\"Recall Score: \", recall_score(y_test, y_pred))\n",
    "print(\"Precision Score: \", precision_score(y_test, y_pred))"
   ]
  }
 ],
 "metadata": {
  "kernelspec": {
   "display_name": "Python 3",
   "language": "python",
   "name": "python3"
  },
  "language_info": {
   "codemirror_mode": {
    "name": "ipython",
    "version": 3
   },
   "file_extension": ".py",
   "mimetype": "text/x-python",
   "name": "python",
   "nbconvert_exporter": "python",
   "pygments_lexer": "ipython3",
   "version": "3.7.12"
  },
  "papermill": {
   "default_parameters": {},
   "duration": 18.83727,
   "end_time": "2023-04-07T05:55:36.125376",
   "environment_variables": {},
   "exception": null,
   "input_path": "__notebook__.ipynb",
   "output_path": "__notebook__.ipynb",
   "parameters": {},
   "start_time": "2023-04-07T05:55:17.288106",
   "version": "2.4.0"
  }
 },
 "nbformat": 4,
 "nbformat_minor": 5
}
